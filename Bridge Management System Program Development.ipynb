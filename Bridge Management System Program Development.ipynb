{
 "cells": [
  {
   "cell_type": "markdown",
   "id": "22194667",
   "metadata": {},
   "source": [
    "# 2022-2023年度《Python程序设计》课程大作业"
   ]
  },
  {
   "cell_type": "markdown",
   "id": "02c82168",
   "metadata": {},
   "source": [
    "### 学号：<font color=\"red\">2151094</font>\n",
    "### 姓名：<font color=\"red\">宋正非</font>\n",
    "### 专业：<font color=\"red\">土木工程</font>"
   ]
  },
  {
   "cell_type": "markdown",
   "id": "803933d5",
   "metadata": {},
   "source": [
    "## 作业要求：\n",
    "- 完成一个桥梁管理系统的程序开发，具体为：\n",
    "    - 完成Bridge类族的开发，包含Bridge及其派生类BeamBridge、CableStayedBridge、ArchBridge的编制\n",
    "    - 完成River类的编制\n",
    "    - 完成BMS管理系统类\n",
    "- 各类的具体属性和方法如下:"
   ]
  },
  {
   "cell_type": "markdown",
   "id": "3663855f",
   "metadata": {},
   "source": [
    "- Bridge 类\n",
    "     - 属性有：\n",
    "         - mainspan 桥梁主跨跨径，数据类型为：float\n",
    "         - spans   桥梁各个跨径，用列表存放 [float, float,...]\n",
    "         - location 桥梁位置x和y坐标，数据类型为：(float, float)\n",
    "         - builtyear桥梁建成年份，数据类型为：int\n",
    "         - name    桥梁名称，数据类型为：str\n",
    "         - id_     桥梁id，数据类型为：str\n",
    "         - totallen 桥梁总长，根据spans求和得到\n",
    "     - 构造函数参数列表：(self, id, name, mainspan, spans, location, builtyear):\n",
    "     - print函数\n",
    "- BeamBridge(Bridge)\n",
    "     - 属性有：\n",
    "         - mat       主梁材料，数据类型为：str   \n",
    "         - statusscore  桥梁健康状况，数据类型为：float\n",
    "     - 构造函数\n",
    "     - print函数\n",
    "     - evaluate函数，给桥梁健康状况打分(返回float类型数据，同时给statusscore赋值)\n",
    "     - plot函数     \n",
    "        - 在图片中显示一个桥梁位置\n",
    "        - 标记桥梁名称\n",
    "        - 标记桥梁健康状况\n",
    "- CableStayedBridge(Bridge)\n",
    "     - 属性有：\n",
    "         - mat       主梁材料，数据类型为：str   \n",
    "         - statusscore  桥梁健康状况，数据类型为：float\n",
    "         - towerheight  桥塔高度，数据类型为：float\n",
    "     - 构造函数\n",
    "     - print函数\n",
    "     - evaluate函数，给桥梁健康状况打分(返回float类型数据，同时给statusscore赋值)\n",
    "     - plot函数     \n",
    "        - 在图片中显示一个桥梁位置\n",
    "        - 标记桥梁名称\n",
    "        - 标记桥梁健康状况\n",
    "- ArchBridge(Bridge)\n",
    "     - 属性有：\n",
    "         - mat       主梁材料，数据类型为：str   \n",
    "         - statusscore  桥梁健康状况，数据类型为：float\n",
    "         - archheight  拱肋高度，数据类型为：float\n",
    "     - 构造函数\n",
    "     - print函数\n",
    "     - evaluate函数，给桥梁健康状况打分(返回float类型数据，同时给statusscore赋值)\n",
    "     - plot函数     \n",
    "        - 在图片中显示一个桥梁位置\n",
    "        - 标记桥梁名称\n",
    "        - 标记桥梁健康状况\n",
    "\n",
    "- BMS 类，桥梁管理系统\n",
    "     - 属性有：：\n",
    "         - Bridge_list  存放桥梁列表，数据类型为：list\n",
    "         - name 系统名称，数据类型为：str\n",
    "     - 构造函数(self, name) name为信息系统名字\n",
    "         - Bridge_list,设置列表为空\n",
    "     - add_bridge(self, bridge:\"Bridge or Bridge List\"): 向系统中增加桥梁信息\n",
    "         - 当bridge传入参数为单个对象时，则增加一个桥梁\n",
    "         - 当bridge传入参数为对象列表时，则增加该桥梁列表中的全部元素\n",
    "     - print(self) 输出桥梁信息\n",
    "     - orderby(self, key='id_', reverse=False) 可以根据桥梁的信息排序\n",
    "\n",
    "- River 类\n",
    "     - 属性有：\n",
    "         - rivercoord  河流的节点序列坐标数组，建议用numpy数组存放（数据需要从文件中读取），维度(num_node, 2)\n",
    "         - name      河流名称，数据类型为：str   \n",
    "     - 构造函数(self, filename,name)，filename为存放河流节点序列坐标的文件名，name为河流名称\n",
    "     - plot函数     \n",
    "        - 在图片中绘制河流\n",
    "        - 标记河流名称\n",
    "        "
   ]
  },
  {
   "cell_type": "markdown",
   "id": "58eae383",
   "metadata": {},
   "source": [
    "- 附加信息，便于同学了解\n",
    "  - 斜拉桥:<https://baike.baidu.com/item/斜拉桥>\n",
    "  - 拱桥:<https://baike.baidu.com/item/拱桥>\n",
    "  - 梁桥:<https://baike.baidu.com/item/梁桥>"
   ]
  },
  {
   "cell_type": "code",
   "execution_count": 1,
   "id": "ce7f2305",
   "metadata": {},
   "outputs": [],
   "source": [
    "## 可能用到的模块\n",
    "import matplotlib.pyplot as plt\n",
    "import matplotlib as mpl\n",
    "import numpy as np\n",
    "import random\n",
    "mpl.rcParams['font.sans-serif'] = ['SimHei']  # ['SimHei'] 或 ['FangSong'] \n",
    "mpl.rcParams['axes.unicode_minus'] = False  # 解决负号'-'显示为小方块的问题，转换负号为字符串"
   ]
  },
  {
   "cell_type": "code",
   "execution_count": 2,
   "id": "b68b1d5a",
   "metadata": {},
   "outputs": [],
   "source": [
    "## 完成一个桥例管理系统的类的编制\n",
    "## 此处完成Bridge类\n",
    "class Bridge():\n",
    "    TotalNum = 0\n",
    "    def __init__(self, id_=\"No name\", name=\"Noname\",mainspan=0, spans=[0,], location=(0,0), builtyear=2000):\n",
    "        \"\"\"\n",
    "        id_ 桥梁编号\n",
    "        name 桥名\n",
    "        mainspan 主跨跨径\n",
    "        span 跨径组合，比如100+200+100 以列表显示 [100,200,100]\n",
    "        location 桥梁位置坐标，元组形式，如(123.4567,62)\n",
    "        builtyear 建成年份\n",
    "        \"\"\"\n",
    "        self.id_ = id_\n",
    "        self.name = name\n",
    "        self.mainspan = mainspan\n",
    "        self.spans = spans\n",
    "        self.location = location\n",
    "        self.builtyear = builtyear\n",
    "        self.totallen = sum(spans)\n",
    "\n",
    "    def print(self):\n",
    "        \"\"\"\n",
    "        输出桥梁的信息\n",
    "        \"\"\"\n",
    "        print(\"桥梁编号为%s，桥名为%s，主跨跨径为%s，跨径组合为%s，桥梁总长为%s，位置坐标为%s，建成年份为%s\"\n",
    "              %(self.id_,self.name,self.mainspan,self.spans,self.totallen,self.location,self.builtyear))\n",
    "        \n",
    "    def plot(self):\n",
    "        plt.plot(self.location[0], self.location[1], 'o', color='red')\n",
    "        plt.text(self.location[0]+0.1, self.location[1]+0.5, str(self.name), fontsize=8)"
   ]
  },
  {
   "cell_type": "code",
   "execution_count": 3,
   "id": "24737df0",
   "metadata": {},
   "outputs": [],
   "source": [
    "## 完成一个桥例管理系统的类的编制\n",
    "## 此处完成Bridge类的3个派生类\n",
    "class BeamBridge(Bridge): #派生出梁桥BeamBridge，新增属性mat（材料类型），结构状态属性statusscore\n",
    "    def __init__(self, id_=\"00001\", name=\"Noname\",mainspan=0, \n",
    "                 spans=[0,], location=(0,0), builtyear=2000,\n",
    "                 mat=\"混凝土\"):\n",
    "        super().__init__(id_,name,mainspan,spans,location,builtyear)\n",
    "        self.mat = mat\n",
    "        self.statusscore = 0\n",
    "     \n",
    "    def evaluate(self, sc=0):\n",
    "        \"\"\"给桥梁状态打分，0~100分\"\"\"\n",
    "        self.statusscore = float(sc)\n",
    "        return sc\n",
    "       \n",
    "    def print(self):\n",
    "        print(\"桥梁编号为%s，桥名为%s，主跨跨径为%s，跨径组合为%s，桥梁总长为%s，位置坐标为%s，建成年份为%s，材料为%s，结构状态属性为%s\"%(self.id_,self.name,self.mainspan,self.spans,self.totallen,self.location,self.builtyear,self.mat,self.statusscore))\n",
    "        \n",
    "    def plot(self):\n",
    "        plt.plot(self.location[0], self.location[1], 'o', color='blue')\n",
    "        plt.text(self.location[0]+0.1, self.location[1]+0.5, str(self.name), fontsize=8)\n",
    "        plt.text(self.location[0]+1, self.location[1]-0.5, str(\"%.2f\"%self.statusscore), fontsize=8)\n",
    "            \n",
    "\n",
    "class CableStayedBridge(Bridge): \n",
    "    #派生出斜拉桥CableStayedBridge，\n",
    "    #新增属性mat（材料类型），结构状态属性statusscore\n",
    "    #桥塔\n",
    "    def __init__(self, id_=\"00001\", name=\"Noname\",mainspan=0, \n",
    "                 spans=[0,], location=(0,0), builtyear=2000,\n",
    "                 mat=\"钢结构\", towerheight=0):\n",
    "        super().__init__(id_,name,mainspan,spans,location,builtyear)\n",
    "        self.mat = mat\n",
    "        self.statusscore = 0\n",
    "        self.towerheight = towerheight\n",
    "    \n",
    "    def evaluate(self, sc=0):\n",
    "        \"\"\"给桥梁状态打分，0~100分\"\"\"\n",
    "        self.statusscore = float(sc)\n",
    "        return sc\n",
    "       \n",
    "    def print(self):\n",
    "        print(\"桥梁编号为%s，桥名为%s，主跨跨径为%s，跨径组合为%s，桥梁总长为%s，位置坐标为%s，建成年份为%s，材料为%s，结构状态属性为%s,塔桥高度%s\"%(self.id_,self.name,self.mainspan,self.spans,self.totallen,self.location,self.builtyear,self.mat,self.statusscore,self.towerheight))\n",
    "    \n",
    "    def plot(self):\n",
    "        plt.plot(self.location[0], self.location[1], 'o', color='green')\n",
    "        plt.text(self.location[0]+0.1, self.location[1]+0.5, str(self.name), fontsize=8)\n",
    "        plt.text(self.location[0]+1, self.location[1]-0.5, str(\"%.2f\"%self.statusscore), fontsize=8)\n",
    "\n",
    "        \n",
    "class ArchBridge(Bridge): \n",
    "    #派生出拱桥ArchBridge，\n",
    "    #新增属性mat（材料类型），结构状态属性statusscore\n",
    "    #拱肋\n",
    "    def __init__(self, id_=\"00001\", name=\"Noname\",mainspan=0, \n",
    "                 spans=[0,], location=(0,0), builtyear=2000,\n",
    "                 mat=\"钢结构\", archheight=0):\n",
    "        super().__init__(id_,name,mainspan,spans,location,builtyear)\n",
    "        self.mat = mat\n",
    "        self.statusscore = 0\n",
    "        self.archheight = archheight\n",
    "    \n",
    "    def evaluate(self, sc=0):\n",
    "        \"\"\"给桥梁状态打分，0~100分\"\"\"\n",
    "        self.statusscore = float(sc)\n",
    "        return sc\n",
    "        \n",
    "    def print(self):\n",
    "        print(\"桥梁编号为%s，桥名为%s，主跨跨径为%s，跨径组合为%s，桥梁总长为%s，位置坐标为%s，建成年份为%s，材料为%s，结构状态属性为%s，拱肋高度%s\"%(self.id_,self.name,self.mainspan,self.spans,self.totallen,self.location,self.builtyear,self.mat,self.statusscore,self.archheight))\n",
    "        \n",
    "    def plot(self):\n",
    "        plt.plot(self.location[0], self.location[1], 'o', color='orange')\n",
    "        plt.text(self.location[0]+0.1, self.location[1]-0.5, str(self.name), fontsize=8)\n",
    "        plt.text(self.location[0]+1, self.location[1]-1.5, str(\"%.2f\"%self.statusscore), fontsize=8)\n",
    "    "
   ]
  },
  {
   "cell_type": "code",
   "execution_count": 4,
   "id": "dda6f2d9",
   "metadata": {},
   "outputs": [],
   "source": [
    "## 完成一个桥例管理系统的类的编制\n",
    "## 此处完成River类\n",
    "class River():\n",
    "    # 河流对象\n",
    "    def __init__(self, filename:str, name:str):\n",
    "        self.rivercoord = np.loadtxt(filename)  \n",
    "        self.name = name\n",
    "        \n",
    "    def plot(self):\n",
    "        plt.xlim(-0.5, 39)\n",
    "        plt.ylim(-2.5, 25.5)\n",
    "        data = self.rivercoord.flatten()\n",
    "        x = data[::2]\n",
    "        y = data[1::2]\n",
    "        plt.plot(x,y)\n",
    "        plt.text(x[-1]-1, y[-1], str(self.name), fontsize=10, color='red')"
   ]
  },
  {
   "cell_type": "code",
   "execution_count": 5,
   "id": "45db79d4",
   "metadata": {},
   "outputs": [],
   "source": [
    "## 完成一个桥例管理系统的类的编制\n",
    "## 此处完成BMS类\n",
    "class BMS():\n",
    "    \"\"\"桥梁系统\"\"\"\n",
    "    def __init__(self, name): #信息系统名字\n",
    "        self.name = name\n",
    "        self.Bridge_list = []\n",
    "        \n",
    "    def add_bridge(self, bridge:\"Bridge or Bridge List\"):\n",
    "        if isinstance(bridge,list):\n",
    "            for each in bridge:\n",
    "                self.Bridge_list.append(each)\n",
    "        else:\n",
    "            self.Bridge_list.append(bridge)\n",
    "            \n",
    "    def print(self):          \n",
    "        print(\"---------------------------\",self.name,\"-----------------------------\")\n",
    "        print(\"%5s%6s%8s%10s%6s%6s%6s%6s\"%(\"桥名\",\"编号\",\"主跨跨径(m)\",\"全长(m)\",\"桥型\",\"建成年\",\"主梁材料\",\"状态得分\"))\n",
    "        print(\"----------------------------------------------------------------------------\")\n",
    "        for each in self.Bridge_list:\n",
    "            if isinstance(each,BeamBridge):\n",
    "                bridgetype=\"梁\"+chr(12288)+\"桥\"\n",
    "            if isinstance(each,CableStayedBridge):\n",
    "                bridgetype=\"斜拉桥\"\n",
    "            if isinstance(each,ArchBridge):\n",
    "                bridgetype=\"拱\"+chr(12288)+\"桥\"\n",
    "            print(\"%5s%6s%10d%10d%10s%8d%6s%6d\"\n",
    "                  %(each.name,each.id_,each.mainspan,each.totallen,bridgetype,each.builtyear,each.mat,each.statusscore))\n",
    "        print(\"-----------------------------------END--------------------------------------\")\n",
    "        \n",
    "    def orderby(self, key='id_', reverse=False):\n",
    "        self.Bridge_list.sort(key=lambda x: getattr(x,key),reverse=reverse)"
   ]
  },
  {
   "cell_type": "code",
   "execution_count": 6,
   "id": "7d96ab6d",
   "metadata": {
    "scrolled": true
   },
   "outputs": [],
   "source": [
    "### 此格代码请勿改动\n",
    "### 此格用于输入各个桥梁信息\n",
    "b1 = BeamBridge(\"0001\",\"外白渡桥\",100,[100, 100],(18.5,10.5),1878,mat=\"钢桁架\")\n",
    "b2 = BeamBridge(\"0002\",\"浙江路桥\", 60,[35,60,35],(17.7,12.9),1978,mat=\"混凝土\")\n",
    "b3 = BeamBridge(\"0006\",\"西藏路桥\", 75,[38,75,38],(17.6,16.8),1983,mat=\"混凝土\")\n",
    "b4 = BeamBridge(\"0007\",\"四川路桥\", 55,[28,55,28],(15.4,19.1),1981,mat=\"混凝土\")\n",
    "c1 = CableStayedBridge(\"0003\", \"杨浦大桥\",608,[250,608,250],(32.3,10.1), 2000,\"钢结构\", towerheight=150)\n",
    "c2 = CableStayedBridge(\"0004\", \"南浦大桥\",408,[150,408,150],(20.2,7.02), 1996,\"钢结构\", towerheight=120)\n",
    "c3 = CableStayedBridge(\"0008\", \"徐浦大桥\",624,[250,624,250],(12.3,9.05), 2004,\"钢与砼\", towerheight=170)\n",
    "c4 = CableStayedBridge(\"0009\", \"闵浦大桥\",708,[280,708,280],(9.10,11.4), 2014,\"钢桁架\", towerheight=180)\n",
    "c5 = CableStayedBridge(\"0010\", \"闵浦二桥\",308,[ 80,100,308],(4.10,10.3), 2017,\"钢桁架\", towerheight=120)\n",
    "a1 = ArchBridge(\"0005\", \"卢浦大桥\",550,[100,550,100], (14.2,8.02), 2000,\"钢结构\", archheight=110)\n"
   ]
  },
  {
   "cell_type": "code",
   "execution_count": 7,
   "id": "fdc6aaa2",
   "metadata": {},
   "outputs": [
    {
     "name": "stdout",
     "output_type": "stream",
     "text": [
      "--------------------------- 上海市桥梁管理系统 -----------------------------\n",
      "   桥名    编号 主跨跨径(m)     全长(m)    桥型   建成年  主梁材料  状态得分\n",
      "----------------------------------------------------------------------------\n",
      " 卢浦大桥  0005       550       750       拱　桥    2000   钢结构    90\n",
      " 外白渡桥  0001       100       200       梁　桥    1878   钢桁架    82\n",
      " 浙江路桥  0002        60       130       梁　桥    1978   混凝土    78\n",
      " 西藏路桥  0006        75       151       梁　桥    1983   混凝土    60\n",
      " 四川路桥  0007        55       111       梁　桥    1981   混凝土    61\n",
      " 杨浦大桥  0003       608      1108       斜拉桥    2000   钢结构    80\n",
      " 南浦大桥  0004       408       708       斜拉桥    1996   钢结构    63\n",
      " 徐浦大桥  0008       624      1124       斜拉桥    2004   钢与砼    83\n",
      " 闵浦大桥  0009       708      1268       斜拉桥    2014   钢桁架    67\n",
      " 闵浦二桥  0010       308       488       斜拉桥    2017   钢桁架    92\n",
      "-----------------------------------END--------------------------------------\n"
     ]
    }
   ],
   "source": [
    "### 此格代码请勿改动\n",
    "### 此格用于输入各个桥梁管理信息所需要的信息\n",
    "bms = BMS(\"上海市桥梁管理系统\")\n",
    "bms.add_bridge(a1) # 可以每次增加一个桥梁\n",
    "bms.add_bridge(b1) # 可以每次增加一个桥梁\n",
    "bms.add_bridge([b2, b3, b4, c1, c2, c3, c4, c5]) # 可以一次向系统里面增加很多桥梁，用列表作为参数\n",
    "for ib in bms.Bridge_list: #给每个桥梁增加评分\n",
    "    ib.evaluate(random.randint(60, 95))\n",
    "bms.print()  # 输出系统中所有桥梁"
   ]
  },
  {
   "cell_type": "code",
   "execution_count": 8,
   "id": "ea3f8590",
   "metadata": {},
   "outputs": [
    {
     "data": {
      "image/png": "[encoded data removed]",
      "text/plain": [
       "<Figure size 432x288 with 1 Axes>"
      ]
     },
     "metadata": {
      "needs_background": "light"
     },
     "output_type": "display_data"
    }
   ],
   "source": [
    "### 此格代码请不要改变 \n",
    "### 用于展示全部桥梁信息\n",
    "r1 = River(filename=\"river01.dat\",name=\"黄浦江\")  # 定义第一条河流\n",
    "r2 = River(filename=\"river02.dat\",name=\"苏州河\")  # 定义第二条河流\n",
    "rivers = [r1, r2] \n",
    "\n",
    "plt.figure()  #建立画布\n",
    "for ir in rivers: #绘制河流\n",
    "    ir.plot()\n",
    "\n",
    "for ib in bms.Bridge_list: #将每座桥绘制在地图上\n",
    "    ib.plot()\n",
    "    \n",
    "plt.text(0,0,\"上海桥梁地图\") \n",
    "plt.show()"
   ]
  },
  {
   "cell_type": "code",
   "execution_count": null,
   "id": "d0616222",
   "metadata": {},
   "outputs": [],
   "source": [
    "# 此格请勿改动\n",
    "bms.orderby('id_')  # 按照id_对桥梁进行排序\n",
    "bms.print()"
   ]
  },
  {
   "cell_type": "code",
   "execution_count": null,
   "id": "fd8914f9",
   "metadata": {},
   "outputs": [],
   "source": [
    "# 此格请勿改动\n",
    "bms.orderby('statusscore')# 按照评分对桥梁进行排序\n",
    "bms.print()"
   ]
  },
  {
   "cell_type": "code",
   "execution_count": 173,
   "id": "5373c020",
   "metadata": {
    "scrolled": true
   },
   "outputs": [
    {
     "name": "stdout",
     "output_type": "stream",
     "text": [
      "--------------------------- 上海市桥梁管理系统 -----------------------------\n",
      "   桥名    编号 主跨跨径(m)     全长(m)    桥型   建成年  主梁材料  状态得分\n",
      "----------------------------------------------------------------------------\n",
      " 闵浦大桥  0009       708      1268       斜拉桥    2014   钢桁架    65\n",
      " 徐浦大桥  0008       624      1124       斜拉桥    2004   钢与砼    91\n",
      " 杨浦大桥  0003       608      1108       斜拉桥    2000   钢结构    66\n",
      " 卢浦大桥  0005       550       750       拱　桥    2000   钢结构    75\n",
      " 南浦大桥  0004       408       708       斜拉桥    1996   钢结构    73\n",
      " 闵浦二桥  0010       308       488       斜拉桥    2017   钢桁架    90\n",
      " 外白渡桥  0001       100       200       梁　桥    1878   钢桁架    78\n",
      " 西藏路桥  0006        75       151       梁　桥    1983   混凝土    80\n",
      " 浙江路桥  0002        60       130       梁　桥    1978   混凝土    85\n",
      " 四川路桥  0007        55       111       梁　桥    1981   混凝土    84\n",
      "-----------------------------------END--------------------------------------\n"
     ]
    }
   ],
   "source": [
    "# 此格请勿改动\n",
    "bms.orderby('mainspan',True)# 按照主跨跨径对桥梁进行排序\n",
    "bms.print()"
   ]
  },
  {
   "cell_type": "code",
   "execution_count": 174,
   "id": "dfe296d7",
   "metadata": {},
   "outputs": [
    {
     "name": "stdout",
     "output_type": "stream",
     "text": [
      "--------------------------- 上海市桥梁管理系统 -----------------------------\n",
      "   桥名    编号 主跨跨径(m)     全长(m)    桥型   建成年  主梁材料  状态得分\n",
      "----------------------------------------------------------------------------\n",
      " 闵浦二桥  0010       308       488       斜拉桥    2017   钢桁架    90\n",
      " 闵浦大桥  0009       708      1268       斜拉桥    2014   钢桁架    65\n",
      " 徐浦大桥  0008       624      1124       斜拉桥    2004   钢与砼    91\n",
      " 杨浦大桥  0003       608      1108       斜拉桥    2000   钢结构    66\n",
      " 卢浦大桥  0005       550       750       拱　桥    2000   钢结构    75\n",
      " 南浦大桥  0004       408       708       斜拉桥    1996   钢结构    73\n",
      " 西藏路桥  0006        75       151       梁　桥    1983   混凝土    80\n",
      " 四川路桥  0007        55       111       梁　桥    1981   混凝土    84\n",
      " 浙江路桥  0002        60       130       梁　桥    1978   混凝土    85\n",
      " 外白渡桥  0001       100       200       梁　桥    1878   钢桁架    78\n",
      "-----------------------------------END--------------------------------------\n"
     ]
    }
   ],
   "source": [
    "# 此格请勿改动\n",
    "bms.orderby('builtyear',True) # 按照建成年份对桥梁进行排序\n",
    "bms.print()"
   ]
  },
  {
   "cell_type": "code",
   "execution_count": null,
   "id": "6886b8f3",
   "metadata": {},
   "outputs": [],
   "source": []
  }
 ],
 "metadata": {
  "kernelspec": {
   "display_name": "Python 3 (ipykernel)",
   "language": "python",
   "name": "python3"
  },
  "language_info": {
   "codemirror_mode": {
    "name": "ipython",
    "version": 3
   },
   "file_extension": ".py",
   "mimetype": "text/x-python",
   "name": "python",
   "nbconvert_exporter": "python",
   "pygments_lexer": "ipython3",
   "version": "3.11.5"
  }
 },
 "nbformat": 4,
 "nbformat_minor": 5
}
